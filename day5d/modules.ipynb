{
 "cells": [
  {
   "cell_type": "code",
   "execution_count": 2,
   "metadata": {},
   "outputs": [
    {
     "ename": "NameError",
     "evalue": "name 'time' is not defined",
     "output_type": "error",
     "traceback": [
      "\u001b[1;31m---------------------------------------------------------------------------\u001b[0m",
      "\u001b[1;31mNameError\u001b[0m                                 Traceback (most recent call last)",
      "Cell \u001b[1;32mIn[2], line 10\u001b[0m\n\u001b[0;32m      8\u001b[0m     load_time \u001b[39m=\u001b[39m end_time \u001b[39m-\u001b[39m start_time\n\u001b[0;32m      9\u001b[0m     \u001b[39mreturn\u001b[39;00m load_time\n\u001b[1;32m---> 10\u001b[0m \u001b[39mprint\u001b[39m(measure_load_time(\u001b[39m'\u001b[39;49m\u001b[39mhttps://www.google.com/\u001b[39;49m\u001b[39m'\u001b[39;49m))\n\u001b[0;32m     12\u001b[0m \u001b[39mprint\u001b[39m(measure_load_time(\u001b[39m'\u001b[39m\u001b[39mhttps://www.ynetnews.com/\u001b[39m\u001b[39m'\u001b[39m))\n\u001b[0;32m     15\u001b[0m \u001b[39mprint\u001b[39m(measure_load_time(\u001b[39m'\u001b[39m\u001b[39mhttps://www.imdb.com/\u001b[39m\u001b[39m'\u001b[39m))\n",
      "Cell \u001b[1;32mIn[2], line 5\u001b[0m, in \u001b[0;36mmeasure_load_time\u001b[1;34m(url)\u001b[0m\n\u001b[0;32m      4\u001b[0m \u001b[39mdef\u001b[39;00m \u001b[39mmeasure_load_time\u001b[39m(url):\n\u001b[1;32m----> 5\u001b[0m     start_time \u001b[39m=\u001b[39m time\u001b[39m.\u001b[39mtime()\n\u001b[0;32m      6\u001b[0m     response \u001b[39m=\u001b[39m requests\u001b[39m.\u001b[39mget(url)\n\u001b[0;32m      7\u001b[0m     end_time \u001b[39m=\u001b[39m time\u001b[39m.\u001b[39mtime()\n",
      "\u001b[1;31mNameError\u001b[0m: name 'time' is not defined"
     ]
    }
   ],
   "source": [
    "import requests\n",
    "import time\n",
    "\n",
    "def measure_load_time(url):\n",
    "    start_time = time.time()\n",
    "    response = requests.get(url)\n",
    "    end_time = time.time()\n",
    "    load_time = end_time - start_time\n",
    "    return load_time\n",
    "print(measure_load_time('https://www.google.com/'))\n",
    "\n",
    "print(measure_load_time('https://www.ynetnews.com/'))\n",
    "\n",
    "\n",
    "print(measure_load_time('https://www.imdb.com/'))\n"
   ]
  }
 ],
 "metadata": {
  "kernelspec": {
   "display_name": "Python 3",
   "language": "python",
   "name": "python3"
  },
  "language_info": {
   "codemirror_mode": {
    "name": "ipython",
    "version": 3
   },
   "file_extension": ".py",
   "mimetype": "text/x-python",
   "name": "python",
   "nbconvert_exporter": "python",
   "pygments_lexer": "ipython3",
   "version": "3.11.0"
  },
  "orig_nbformat": 4,
  "vscode": {
   "interpreter": {
    "hash": "c261aea317cc0286b3b3261fbba9abdec21eaa57589985bb7a274bf54d6cc0a7"
   }
  }
 },
 "nbformat": 4,
 "nbformat_minor": 2
}
