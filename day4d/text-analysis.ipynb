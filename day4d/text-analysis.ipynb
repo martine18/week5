{
 "cells": [
  {
   "cell_type": "code",
   "execution_count": 1,
   "metadata": {},
   "outputs": [
    {
     "ename": "AttributeError",
     "evalue": "'str' object has no attribute 'word_frequency'",
     "output_type": "error",
     "traceback": [
      "\u001b[1;31m---------------------------------------------------------------------------\u001b[0m",
      "\u001b[1;31mAttributeError\u001b[0m                            Traceback (most recent call last)",
      "Cell \u001b[1;32mIn[1], line 30\u001b[0m\n\u001b[0;32m     27\u001b[0m         unique_words \u001b[39m=\u001b[39m \u001b[39mset\u001b[39m(words)\n\u001b[0;32m     28\u001b[0m         \u001b[39mreturn\u001b[39;00m \u001b[39mlist\u001b[39m(unique_words)\n\u001b[1;32m---> 30\u001b[0m \u001b[39mprint\u001b[39m(text_obj\u001b[39m.\u001b[39;49mword_frequency(\u001b[39m\"\u001b[39m\u001b[39mgood\u001b[39m\u001b[39m\"\u001b[39m))\n\u001b[0;32m     33\u001b[0m \u001b[39mprint\u001b[39m(text_obj\u001b[39m.\u001b[39mmost_common_word())\n\u001b[0;32m     36\u001b[0m \u001b[39mprint\u001b[39m(text_obj\u001b[39m.\u001b[39munique_words())\n",
      "\u001b[1;31mAttributeError\u001b[0m: 'str' object has no attribute 'word_frequency'"
     ]
    }
   ],
   "source": [
    "text = \"A good book would sometimes cost as much as a good house.\"\n",
    "text_obj = (text)\n",
    "class Text:\n",
    "    def __init__(self, text):\n",
    "        self.text = text\n",
    "    \n",
    "    def word_frequency(self, word):\n",
    "        words = self.text.split()\n",
    "        count = words.count(word)\n",
    "        if count == 0:\n",
    "            return None\n",
    "        else:\n",
    "            return f\"The word '{word}' appears {count} times in the text.\"\n",
    "    \n",
    "    def most_common_word(self):\n",
    "        words = self.text.split()\n",
    "        word_counts = {}\n",
    "        for word in words:\n",
    "            if word in word_counts:\n",
    "                word_counts[word] += 1\n",
    "            else:\n",
    "                word_counts[word] = 1\n",
    "        return max(word_counts, key=word_counts.get)\n",
    "    \n",
    "    def unique_words(self):\n",
    "        words = self.text.split()\n",
    "        unique_words = set(words)\n",
    "        return list(unique_words)\n",
    "\n",
    "print(text_obj.word_frequency(\"good\"))\n",
    "\n",
    "\n",
    "print(text_obj.most_common_word())\n",
    "\n",
    "\n",
    "print(text_obj.unique_words())\n",
    "\n"
   ]
  }
 ],
 "metadata": {
  "kernelspec": {
   "display_name": "Python 3",
   "language": "python",
   "name": "python3"
  },
  "language_info": {
   "codemirror_mode": {
    "name": "ipython",
    "version": 3
   },
   "file_extension": ".py",
   "mimetype": "text/x-python",
   "name": "python",
   "nbconvert_exporter": "python",
   "pygments_lexer": "ipython3",
   "version": "3.11.0"
  },
  "orig_nbformat": 4,
  "vscode": {
   "interpreter": {
    "hash": "c261aea317cc0286b3b3261fbba9abdec21eaa57589985bb7a274bf54d6cc0a7"
   }
  }
 },
 "nbformat": 4,
 "nbformat_minor": 2
}
