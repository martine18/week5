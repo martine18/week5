{
 "cells": [
  {
   "cell_type": "code",
   "execution_count": 3,
   "metadata": {},
   "outputs": [],
   "source": [
    "class FrenchWords:\n",
    "    def __init__(self):\n",
    "        self.words = [\"Bonjour\", \"Au revoir\", \"Bienvenue\", \"A bientôt\"]\n",
    "    \n",
    "    def get_greetings(self):\n",
    "        return [word for word in self.words if word.startswith(\"B\")]\n",
    "    \n",
    "    def get_farewells(self):\n",
    "        return [word for word in self.words if word.startswith(\"A\")]\n",
    "\n",
    "\n"
   ]
  }
 ],
 "metadata": {
  "kernelspec": {
   "display_name": "Python 3",
   "language": "python",
   "name": "python3"
  },
  "language_info": {
   "codemirror_mode": {
    "name": "ipython",
    "version": 3
   },
   "file_extension": ".py",
   "mimetype": "text/x-python",
   "name": "python",
   "nbconvert_exporter": "python",
   "pygments_lexer": "ipython3",
   "version": "3.11.0"
  },
  "orig_nbformat": 4,
  "vscode": {
   "interpreter": {
    "hash": "c261aea317cc0286b3b3261fbba9abdec21eaa57589985bb7a274bf54d6cc0a7"
   }
  }
 },
 "nbformat": 4,
 "nbformat_minor": 2
}
