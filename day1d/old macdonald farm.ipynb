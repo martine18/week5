{
 "cells": [
  {
   "cell_type": "code",
   "execution_count": 1,
   "metadata": {},
   "outputs": [],
   "source": [
    "class Farm:\n",
    "    def __init__(self, name):\n",
    "        self.name = name\n",
    "        self.animals = {}\n",
    "\n",
    "    def add_animal(self, animal, count=1):\n",
    "        if animal in self.animals:\n",
    "            self.animals[animal] += count\n",
    "        else:\n",
    "            self.animals[animal] = count\n",
    "\n",
    "    def get_info(self):\n",
    "        info = f\"{self.name}'s farm\\n\"\n",
    "        for animal, count in self.animals.items():\n",
    "            info += f\"{animal} : {count}\\n\"\n",
    "        info += \"E-I-E-I-0!\"\n",
    "        return info\n"
   ]
  }
 ],
 "metadata": {
  "kernelspec": {
   "display_name": "Python 3",
   "language": "python",
   "name": "python3"
  },
  "language_info": {
   "codemirror_mode": {
    "name": "ipython",
    "version": 3
   },
   "file_extension": ".py",
   "mimetype": "text/x-python",
   "name": "python",
   "nbconvert_exporter": "python",
   "pygments_lexer": "ipython3",
   "version": "3.11.0"
  },
  "orig_nbformat": 4,
  "vscode": {
   "interpreter": {
    "hash": "c261aea317cc0286b3b3261fbba9abdec21eaa57589985bb7a274bf54d6cc0a7"
   }
  }
 },
 "nbformat": 4,
 "nbformat_minor": 2
}
