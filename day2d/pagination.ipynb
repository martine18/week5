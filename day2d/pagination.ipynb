{
 "cells": [
  {
   "cell_type": "code",
   "execution_count": 1,
   "metadata": {},
   "outputs": [],
   "source": [
    "class PaginatedContent:\n",
    "    def __init__(self, content_list, page_size):\n",
    "        self.content_list = content_list\n",
    "        self.page_size = page_size\n",
    "        self.num_pages = (len(content_list) + page_size - 1) // page_size\n",
    "        self.current_page = 1\n",
    "    \n",
    "    def get_current_page(self):\n",
    "        start_index = (self.current_page - 1) * self.page_size\n",
    "        end_index = start_index + self.page_size\n",
    "        return self.content_list[start_index:end_index]\n",
    "    \n",
    "    def get_page(self, page_number):\n",
    "        if page_number < 1 or page_number > self.num_pages:\n",
    "            raise ValueError(\"Invalid page number\")\n",
    "        start_index = (page_number - 1) * self.page_size\n",
    "        end_index = start_index + self.page_size\n",
    "        return self.content_list[start_index:end_index]\n",
    "    \n",
    "    def next_page(self):\n",
    "        if self.current_page < self.num_pages:\n",
    "            self.current_page += 1\n",
    "        return self.get_current_page()\n",
    "    \n",
    "    def prev_page(self):\n",
    "        if self.current_page > 1:\n",
    "            self.current_page -= 1\n",
    "        return self.get_current_page()\n"
   ]
  },
  {
   "cell_type": "code",
   "execution_count": 2,
   "metadata": {},
   "outputs": [
    {
     "name": "stdout",
     "output_type": "stream",
     "text": [
      "[1, 2, 3, 4, 5, 6, 7, 8, 9, 10]\n",
      "[21, 22, 23, 24, 25, 26, 27, 28, 29, 30]\n",
      "[11, 12, 13, 14, 15, 16, 17, 18, 19, 20]\n",
      "[1, 2, 3, 4, 5, 6, 7, 8, 9, 10]\n"
     ]
    }
   ],
   "source": [
    "\n",
    "items = list(range(1, 101))\n",
    "\n",
    "# Create a paginated content object with page size 10\n",
    "content = PaginatedContent(items, 10)\n",
    "\n",
    "\n",
    "print(content.get_current_page()) \n",
    "\n",
    "\n",
    "print(content.get_page(3)) \n",
    "\n",
    "\n",
    "print(content.next_page()) \n",
    "\n",
    "\n",
    "print(content.prev_page())\n"
   ]
  }
 ],
 "metadata": {
  "kernelspec": {
   "display_name": "Python 3",
   "language": "python",
   "name": "python3"
  },
  "language_info": {
   "codemirror_mode": {
    "name": "ipython",
    "version": 3
   },
   "file_extension": ".py",
   "mimetype": "text/x-python",
   "name": "python",
   "nbconvert_exporter": "python",
   "pygments_lexer": "ipython3",
   "version": "3.11.0"
  },
  "orig_nbformat": 4,
  "vscode": {
   "interpreter": {
    "hash": "c261aea317cc0286b3b3261fbba9abdec21eaa57589985bb7a274bf54d6cc0a7"
   }
  }
 },
 "nbformat": 4,
 "nbformat_minor": 2
}
