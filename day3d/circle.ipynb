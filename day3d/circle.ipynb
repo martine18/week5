{
 "cells": [
  {
   "cell_type": "code",
   "execution_count": 1,
   "metadata": {},
   "outputs": [],
   "source": [
    "import math\n",
    "\n",
    "class Circle:\n",
    "    def __init__(self, radius=0, diameter=0):\n",
    "        if radius == 0 and diameter == 0:\n",
    "            raise ValueError(\"Either radius or diameter must be provided.\")\n",
    "        \n",
    "        if radius != 0:\n",
    "            self.radius = radius\n",
    "        else:\n",
    "            self.radius = diameter / 2\n",
    "        \n",
    "    @property\n",
    "    def diameter(self):\n",
    "        return self.radius * 2\n",
    "    \n",
    "    @diameter.setter\n",
    "    def diameter(self, value):\n",
    "        self.radius = value / 2\n",
    "    \n",
    "    @property\n",
    "    def area(self):\n",
    "        return math.pi * self.radius ** 2\n",
    "    \n",
    "    def __str__(self):\n",
    "        return f\"Circle with radius {self.radius}\"\n",
    "    \n",
    "    def __repr__(self):\n",
    "        return f\"Circle({self.radius})\"\n",
    "    \n",
    "    def __add__(self, other):\n",
    "        return Circle(self.radius + other.radius)\n",
    "    \n",
    "    def __lt__(self, other):\n",
    "        return self.radius < other.radius\n",
    "    \n",
    "    def __eq__(self, other):\n",
    "        return self.radius == other.radius\n",
    "    \n",
    "    def sort_key(self):\n",
    "        return self.radius\n"
   ]
  },
  {
   "cell_type": "code",
   "execution_count": 1,
   "metadata": {},
   "outputs": [
    {
     "ename": "NameError",
     "evalue": "name 'Circle' is not defined",
     "output_type": "error",
     "traceback": [
      "\u001b[1;31m---------------------------------------------------------------------------\u001b[0m",
      "\u001b[1;31mNameError\u001b[0m                                 Traceback (most recent call last)",
      "Cell \u001b[1;32mIn[1], line 2\u001b[0m\n\u001b[0;32m      1\u001b[0m \u001b[39m# Create two circles with different radii\u001b[39;00m\n\u001b[1;32m----> 2\u001b[0m c1 \u001b[39m=\u001b[39m Circle(radius\u001b[39m=\u001b[39m\u001b[39m2\u001b[39m)\n\u001b[0;32m      3\u001b[0m c2 \u001b[39m=\u001b[39m Circle(diameter\u001b[39m=\u001b[39m\u001b[39m4\u001b[39m)\n\u001b[0;32m      5\u001b[0m \u001b[39m# Query the radius and diameter of a circle\u001b[39;00m\n",
      "\u001b[1;31mNameError\u001b[0m: name 'Circle' is not defined"
     ]
    }
   ],
   "source": [
    "# Create two circles with different radii\n",
    "c1 = Circle(radius=2)\n",
    "c2 = Circle(diameter=4)\n",
    "\n",
    "# Query the radius and diameter of a circle\n",
    "print(c1.radius)   \n",
    "print(c2.diameter)  \n",
    "\n",
    "\n",
    "print(c1.area)     \n",
    "\n",
    "\n",
    "print(c1)          \n",
    "\n",
    "# Add two circles together\n",
    "c3 = c1 + c2\n",
    "print(c3.radius)    \n",
    "\n",
    "# Compare two circles\n",
    "print(c1 < c2)    \n",
    "print(c1 == c2)     \n",
    "\n",
    "# Put circles in a list and sort them by their radii\n",
    "circles = [c1, c2, c3]\n",
    "sorted_circles = sorted(circles, key=lambda x: x.sort_key())\n",
    "print(sorted_circles) \n"
   ]
  }
 ],
 "metadata": {
  "kernelspec": {
   "display_name": "Python 3",
   "language": "python",
   "name": "python3"
  },
  "language_info": {
   "codemirror_mode": {
    "name": "ipython",
    "version": 3
   },
   "file_extension": ".py",
   "mimetype": "text/x-python",
   "name": "python",
   "nbconvert_exporter": "python",
   "pygments_lexer": "ipython3",
   "version": "3.11.0"
  },
  "orig_nbformat": 4,
  "vscode": {
   "interpreter": {
    "hash": "c261aea317cc0286b3b3261fbba9abdec21eaa57589985bb7a274bf54d6cc0a7"
   }
  }
 },
 "nbformat": 4,
 "nbformat_minor": 2
}
