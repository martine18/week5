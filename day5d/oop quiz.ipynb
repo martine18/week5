{
 "cells": [
  {
   "cell_type": "code",
   "execution_count": null,
   "metadata": {},
   "outputs": [],
   "source": [
    "#What is a class?\n",
    "#A class is a blueprint or a template for creating objects that define a set of attributes and methods that the objects have. It is a code construct that encapsulates data and behaviors that belong together.\n",
    "\n",
    "#What is an instance?\n",
    "#An instance is an individual object created from a class that has its own state and behavior. It is a specific realization of a class.\n",
    "\n",
    "#What is encapsulation?\n",
    "#Encapsulation is the process of hiding the internal details and data of an object from the outside world and only exposing a public interface through which other objects can interact with it. It is a fundamental principle of object-oriented programming that helps to create secure and robust code.\n",
    "\n",
    "#What is abstraction?\n",
    "#Abstraction is the process of reducing complexity by hiding unnecessary details and focusing only on the essential features of an object or system. It allows us to create models of real-world objects and systems that are simpler and easier to work with.\n",
    "\n",
    "#What is inheritance?\n",
    "#Inheritance is a mechanism in object-oriented programming that allows a new class to be based on an existing class, inheriting its attributes and methods. The new class is called a subclass or derived class, and the existing class is called the superclass or base class.\n",
    "\n",
    "#What is multiple inheritance?\n",
    "#Multiple inheritance is a feature of some object-oriented programming languages that allows a subclass to inherit from more than one superclass. This allows the subclass to combine the attributes and methods of multiple classes.\n",
    "\n",
    "#What is polymorphism?\n",
    "#Polymorphism is the ability of objects of different classes to be treated as if they were objects of the same class. It allows objects to take on many forms, and it is a key feature of object-oriented programming.\n",
    "\n",
    "#What is method resolution order or MRO?\n",
    "#Method resolution order (MRO) is the order in which a programming language looks for methods when it is called on an object. It is important in languages that support inheritance, such as Python, because it determines which method will be called if a method is defined in multiple classes in the inheritance hierarchy. In Python, the MRO is determined by the C3 linearization algorithm, which is a way of ordering the inheritance hierarchy to ensure that all base classes are called exactly once in the order specified by the programmer."
   ]
  },
  {
   "cell_type": "code",
   "execution_count": 1,
   "metadata": {},
   "outputs": [],
   "source": [
    "import random\n",
    "\n",
    "class Card:\n",
    "    def __init__(self, suit, value):\n",
    "        self.suit = suit\n",
    "        self.value = value\n",
    "\n",
    "class Deck:\n",
    "    def __init__(self):\n",
    "        self.cards = []\n",
    "        suits = ['Hearts', 'Diamonds', 'Clubs', 'Spades']\n",
    "        values = ['A', '2', '3', '4', '5', '6', '7', '8', '9', '10', 'J', 'Q', 'K']\n",
    "        for suit in suits:\n",
    "            for value in values:\n",
    "                self.cards.append(Card(suit, value))\n",
    "\n",
    "    def shuffle(self):\n",
    "        random.shuffle(self.cards)\n",
    "\n",
    "    def deal(self):\n",
    "        if len(self.cards) == 0:\n",
    "            return None\n",
    "        else:\n",
    "            return self.cards.pop()\n"
   ]
  }
 ],
 "metadata": {
  "kernelspec": {
   "display_name": "Python 3",
   "language": "python",
   "name": "python3"
  },
  "language_info": {
   "codemirror_mode": {
    "name": "ipython",
    "version": 3
   },
   "file_extension": ".py",
   "mimetype": "text/x-python",
   "name": "python",
   "nbconvert_exporter": "python",
   "pygments_lexer": "ipython3",
   "version": "3.11.0"
  },
  "orig_nbformat": 4,
  "vscode": {
   "interpreter": {
    "hash": "c261aea317cc0286b3b3261fbba9abdec21eaa57589985bb7a274bf54d6cc0a7"
   }
  }
 },
 "nbformat": 4,
 "nbformat_minor": 2
}
